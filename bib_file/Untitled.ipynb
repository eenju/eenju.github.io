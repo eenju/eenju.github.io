{
 "cells": [
  {
   "cell_type": "code",
   "execution_count": 1,
   "metadata": {},
   "outputs": [],
   "source": [
    "import bibtexparser\n",
    "\n",
    "import time\n",
    "start=time.localtime().tm_year\n",
    "end=2016\n",
    "\n",
    "with open('./lilab.bib','r+',encoding='utf8') as f:\n",
    "    tmp=f.read()\n",
    "monlist={'jan','feb','mar','apr','may','jun','jul','aug','sep','oct','nov','dec'}\n",
    "for item in monlist:\n",
    "    newitem='{'+item+'}'\n",
    "    tmp=tmp.replace(item,newitem)\n",
    "biball=bibtexparser.loads(tmp)\n",
    "bib=biball.entries[0]"
   ]
  },
  {
   "cell_type": "code",
   "execution_count": 2,
   "metadata": {},
   "outputs": [
    {
     "data": {
      "text/plain": [
       "'Antiferromagnetic α-MnTe: Molten-Salt-Assisted Chemical Vapor Deposition Growth and Magneto-Transport Properties'"
      ]
     },
     "execution_count": 2,
     "metadata": {},
     "output_type": "execute_result"
    }
   ],
   "source": [
    "from deal_bib import *\n",
    "gettitle(bib)"
   ]
  },
  {
   "cell_type": "code",
   "execution_count": null,
   "metadata": {},
   "outputs": [],
   "source": [
    "biball.entries[-1]"
   ]
  },
  {
   "cell_type": "code",
   "execution_count": null,
   "metadata": {},
   "outputs": [],
   "source": [
    "entry_dict={}\n",
    "timestamp=[]\n",
    "for item in biball.entries:\n",
    "    entry_dict.update({int(item['note']):item})\n",
    "entry_dict"
   ]
  },
  {
   "cell_type": "code",
   "execution_count": null,
   "metadata": {},
   "outputs": [],
   "source": [
    "import re\n",
    "patt_month=r'month(\\s*?)=(\\s*?)([a-z]{3})'\n",
    "with open('./lilab.bib','r+',encoding='utf8') as f:\n",
    "    tmp=f.read()\n",
    "tmp=re.sub(patt_month,lambda m:'month'+m.group(1)+'='+m.group(2)+'{'+m.group(3)+'}',tmp)\n",
    "print(tmp)"
   ]
  }
 ],
 "metadata": {
  "kernelspec": {
   "display_name": "Python 3",
   "language": "python",
   "name": "python3"
  },
  "language_info": {
   "codemirror_mode": {
    "name": "ipython",
    "version": 3
   },
   "file_extension": ".py",
   "mimetype": "text/x-python",
   "name": "python",
   "nbconvert_exporter": "python",
   "pygments_lexer": "ipython3",
   "version": "3.8.3"
  }
 },
 "nbformat": 4,
 "nbformat_minor": 4
}
